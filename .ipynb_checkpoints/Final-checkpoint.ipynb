{
 "cells": [
  {
   "cell_type": "markdown",
   "id": "953120a5",
   "metadata": {},
   "source": [
    "# Importing Packages"
   ]
  },
  {
   "cell_type": "code",
   "execution_count": 1,
   "id": "ae6c3cc6",
   "metadata": {},
   "outputs": [],
   "source": [
    "from pyspark.sql import SparkSession"
   ]
  },
  {
   "cell_type": "markdown",
   "id": "7863c5a9",
   "metadata": {},
   "source": [
    "# Spark Session"
   ]
  },
  {
   "cell_type": "code",
   "execution_count": 2,
   "id": "71706481",
   "metadata": {
    "scrolled": true
   },
   "outputs": [
    {
     "name": "stderr",
     "output_type": "stream",
     "text": [
      "Setting default log level to \"WARN\".\n",
      "To adjust logging level use sc.setLogLevel(newLevel). For SparkR, use setLogLevel(newLevel).\n",
      "23/06/02 19:08:17 WARN NativeCodeLoader: Unable to load native-hadoop library for your platform... using builtin-java classes where applicable\n"
     ]
    }
   ],
   "source": [
    "# Creating a SparkSession\n",
    "spark = SparkSession.builder.appName(\"DiabetesPrediction\").getOrCreate()\n",
    "\n",
    "# Set the log level to WARN\n",
    "spark.sparkContext.setLogLevel(\"WARN\")\n",
    "\n",
    "# Set the maxToStringFields configuration property\n",
    "spark.conf.set(\"spark.sql.debug.maxToStringFields\", 100)"
   ]
  },
  {
   "cell_type": "markdown",
   "id": "1b64ebb2",
   "metadata": {},
   "source": [
    "# Loading Dataset"
   ]
  },
  {
   "cell_type": "code",
   "execution_count": 3,
   "id": "d94f8bda",
   "metadata": {},
   "outputs": [],
   "source": [
    "#Data\n",
    "FileName = \"medical_info.csv\"\n",
    "#Function to load data into DataFrame using spark\n",
    "def load_data_spark(file=(FileName)):\n",
    "    return spark.read.csv(file, sep=',', header=True, inferSchema=True, nullValue='NA')\n",
    "\n",
    "# Saving the dataframe\n",
    "original_dataframe = load_data_spark()"
   ]
  },
  {
   "cell_type": "markdown",
   "id": "c6b9311f",
   "metadata": {},
   "source": [
    "# DataFrame Structure"
   ]
  },
  {
   "cell_type": "code",
   "execution_count": 4,
   "id": "552cae33",
   "metadata": {},
   "outputs": [
    {
     "name": "stdout",
     "output_type": "stream",
     "text": [
      "The data contain 768 records.\n",
      "+-----------+-------+-------------+-------------+-------+----+------------------------+---+-------+\n",
      "|Pregnancies|Glucose|BloodPressure|SkinThickness|Insulin| BMI|DiabetesPedigreeFunction|Age|Outcome|\n",
      "+-----------+-------+-------------+-------------+-------+----+------------------------+---+-------+\n",
      "|          6|    148|           72|           35|      0|33.6|                   0.627| 50|      1|\n",
      "|          1|     85|           66|           29|      0|26.6|                   0.351| 31|      0|\n",
      "|          8|    183|           64|            0|      0|23.3|                   0.672| 32|      1|\n",
      "|          1|     89|           66|           23|     94|28.1|                   0.167| 21|      0|\n",
      "|          0|    137|           40|           35|    168|43.1|                   2.288| 33|      1|\n",
      "+-----------+-------+-------------+-------------+-------+----+------------------------+---+-------+\n",
      "only showing top 5 rows\n",
      "\n"
     ]
    }
   ],
   "source": [
    "print(\"The data contain %d records.\" % original_dataframe.count())\n",
    "\n",
    "# View the first five records. The show() method displays the first few records. \n",
    "original_dataframe.show(5)"
   ]
  },
  {
   "cell_type": "code",
   "execution_count": 5,
   "id": "cc78649a",
   "metadata": {},
   "outputs": [
    {
     "name": "stdout",
     "output_type": "stream",
     "text": [
      "root\n",
      " |-- Pregnancies: integer (nullable = true)\n",
      " |-- Glucose: integer (nullable = true)\n",
      " |-- BloodPressure: integer (nullable = true)\n",
      " |-- SkinThickness: integer (nullable = true)\n",
      " |-- Insulin: integer (nullable = true)\n",
      " |-- BMI: double (nullable = true)\n",
      " |-- DiabetesPedigreeFunction: double (nullable = true)\n",
      " |-- Age: integer (nullable = true)\n",
      " |-- Outcome: integer (nullable = true)\n",
      "\n"
     ]
    }
   ],
   "source": [
    "# Describe the structure of the DataFrame\n",
    "original_dataframe.printSchema()"
   ]
  },
  {
   "cell_type": "code",
   "execution_count": 6,
   "id": "4b727900",
   "metadata": {
    "scrolled": true
   },
   "outputs": [
    {
     "data": {
      "text/plain": [
       "DataFrame[summary: string, Pregnancies: string, Glucose: string, BloodPressure: string, SkinThickness: string, Insulin: string, BMI: string, DiabetesPedigreeFunction: string, Age: string, Outcome: string]"
      ]
     },
     "execution_count": 6,
     "metadata": {},
     "output_type": "execute_result"
    }
   ],
   "source": [
    "# Describe the statistics of the DataFrame columns\n",
    "original_dataframe.describe()"
   ]
  },
  {
   "cell_type": "code",
   "execution_count": 7,
   "id": "1f5dca40",
   "metadata": {
    "scrolled": true
   },
   "outputs": [
    {
     "name": "stdout",
     "output_type": "stream",
     "text": [
      "+-------+-------+-------------+-------------+-------+------+------------------------+------+-------+\n",
      "|summary|Glucose|BloodPressure|SkinThickness|Insulin|   BMI|DiabetesPedigreeFunction|   Age|Outcome|\n",
      "+-------+-------+-------------+-------------+-------+------+------------------------+------+-------+\n",
      "|  count| 768.00|       768.00|       768.00| 768.00|768.00|                  768.00|768.00| 768.00|\n",
      "|   mean| 120.89|        69.11|        20.54|  79.80| 31.99|                    0.47| 33.24|   0.35|\n",
      "| stddev|  31.97|        19.36|        15.95| 115.24|  7.88|                    0.33| 11.76|   0.48|\n",
      "|    min|   0.00|         0.00|         0.00|   0.00|  0.00|                    0.08| 21.00|   0.00|\n",
      "|    max| 199.00|       122.00|        99.00| 846.00| 67.10|                    2.42| 81.00|   1.00|\n",
      "+-------+-------+-------------+-------------+-------+------+------------------------+------+-------+\n",
      "\n"
     ]
    }
   ],
   "source": [
    "from pyspark.sql.functions import format_number\n",
    "\n",
    "# Perform describe and format the columns\n",
    "describe_df = original_dataframe.describe()\n",
    "formatted_df = describe_df.select(\n",
    "    describe_df['summary'],\n",
    "    *(format_number(describe_df[col].cast('float'), 2).alias(col) for col in original_dataframe.columns[1:])\n",
    ")\n",
    "\n",
    "# Show the formatted DataFrame\n",
    "formatted_df.show()"
   ]
  },
  {
   "cell_type": "markdown",
   "id": "a7043805",
   "metadata": {},
   "source": [
    "# Missing Values"
   ]
  },
  {
   "cell_type": "code",
   "execution_count": 8,
   "id": "209c1c54",
   "metadata": {},
   "outputs": [
    {
     "name": "stdout",
     "output_type": "stream",
     "text": [
      "+--------------------------+-------------+------------+---------------+---------------+\n",
      "| Column Name              | Data Type   | Nullable   |   Null Values |   Zero Values |\n",
      "+==========================+=============+============+===============+===============+\n",
      "| Pregnancies              | int         | True       |             0 |           111 |\n",
      "+--------------------------+-------------+------------+---------------+---------------+\n",
      "| Glucose                  | int         | True       |             0 |             5 |\n",
      "+--------------------------+-------------+------------+---------------+---------------+\n",
      "| BloodPressure            | int         | True       |             0 |            35 |\n",
      "+--------------------------+-------------+------------+---------------+---------------+\n",
      "| SkinThickness            | int         | True       |             0 |           227 |\n",
      "+--------------------------+-------------+------------+---------------+---------------+\n",
      "| Insulin                  | int         | True       |             0 |           374 |\n",
      "+--------------------------+-------------+------------+---------------+---------------+\n",
      "| BMI                      | double      | True       |             0 |            11 |\n",
      "+--------------------------+-------------+------------+---------------+---------------+\n",
      "| DiabetesPedigreeFunction | double      | True       |             0 |             0 |\n",
      "+--------------------------+-------------+------------+---------------+---------------+\n",
      "| Age                      | int         | True       |             0 |             0 |\n",
      "+--------------------------+-------------+------------+---------------+---------------+\n",
      "| Outcome                  | int         | True       |             0 |           500 |\n",
      "+--------------------------+-------------+------------+---------------+---------------+\n"
     ]
    }
   ],
   "source": [
    "from tabulate import tabulate\n",
    "\n",
    "# Create a list to store the column details\n",
    "column_details = []\n",
    "\n",
    "#copy dataframe\n",
    "df = original_dataframe\n",
    "\n",
    "# Iterate over the columns and retrieve their details\n",
    "for column_name, column_type in df.dtypes:\n",
    "    field = df.schema[column_name]\n",
    "    null_count = df.where(df[column_name].isNull()).count()\n",
    "    zero_count = df.where(df[column_name] == 0).count()\n",
    "    \n",
    "    # Append the column details as a row in the list\n",
    "    column_details.append([\n",
    "        column_name,\n",
    "        column_type,\n",
    "        field.nullable,\n",
    "        null_count,\n",
    "        zero_count\n",
    "    ])\n",
    "\n",
    "# Define the headers for the table\n",
    "headers = [\"Column Name\", \"Data Type\", \"Nullable\", \"Null Values\", \"Zero Values\"]\n",
    "\n",
    "# Print the table using the tabulate library\n",
    "print(tabulate(column_details, headers, tablefmt=\"grid\"))"
   ]
  },
  {
   "cell_type": "code",
   "execution_count": 9,
   "id": "e80c502b",
   "metadata": {},
   "outputs": [],
   "source": [
    "from pyspark.sql.functions import col, isnan, isnull\n",
    "\n",
    "def missing_count(df, column_name):\n",
    "    # Filter the DataFrame to show rows with missing, null, and zero values\n",
    "    missing_rows = df.filter((col(column_name).isNull()) | (col(column_name) == 0))\n",
    "    null_rows = df.filter(isnull(column_name))\n",
    "\n",
    "    # Count the number of rows with missing, null, and zero values\n",
    "    missing_count = missing_rows.count()\n",
    "    null_count = null_rows.count()\n",
    "\n",
    "    print(\"Missing values count: \", missing_count)\n",
    "    print(\"Null values count: \", null_count)"
   ]
  },
  {
   "cell_type": "code",
   "execution_count": 10,
   "id": "0e42ed2d",
   "metadata": {},
   "outputs": [
    {
     "name": "stdout",
     "output_type": "stream",
     "text": [
      "Missing values count:  227\n",
      "Null values count:  0\n"
     ]
    }
   ],
   "source": [
    "missing_count(df, 'SkinThickness')"
   ]
  },
  {
   "cell_type": "code",
   "execution_count": 11,
   "id": "61a53c77",
   "metadata": {},
   "outputs": [
    {
     "name": "stdout",
     "output_type": "stream",
     "text": [
      "Missing values count:  374\n",
      "Null values count:  0\n"
     ]
    }
   ],
   "source": [
    "missing_count(df, 'Insulin')    "
   ]
  },
  {
   "cell_type": "code",
   "execution_count": 12,
   "id": "9b679388",
   "metadata": {},
   "outputs": [
    {
     "name": "stdout",
     "output_type": "stream",
     "text": [
      "Skin Median:  23.0\n",
      "Insulin Median:  29.0\n"
     ]
    }
   ],
   "source": [
    "from pyspark.sql.functions import col\n",
    "\n",
    "def find_median(df, column_name):\n",
    "    # Specify the desired quantile(s) for the median (e.g., 0.5 for the median)\n",
    "    quantiles = [0.5]\n",
    "\n",
    "    # Set the relative error for the approximation (e.g., 0.001 for 0.1% error)\n",
    "    relative_error = 0.00\n",
    "    \n",
    "    \n",
    "    # Find the median using the Greenwald-Khanna algorithm\n",
    "    medians = df.approxQuantile(column_name, quantiles, relative_error)\n",
    "    \n",
    "    # Extract the median value from the resulting list\n",
    "    return medians[0]\n",
    "\n",
    "# Calculate median values\n",
    "skin_thickness_median = find_median(df, 'SkinThickness')\n",
    "insulin_median = find_median(df, 'Insulin')\n",
    "\n",
    "\n",
    "print(\"Skin Median: \", skin_thickness_median)\n",
    "print(\"Insulin Median: \", insulin_median)"
   ]
  },
  {
   "cell_type": "code",
   "execution_count": 13,
   "id": "4ef2114d",
   "metadata": {},
   "outputs": [
    {
     "name": "stdout",
     "output_type": "stream",
     "text": [
      "+-----------+-------+-------------+-------------+-------+----+------------------------+---+-------+\n",
      "|Pregnancies|Glucose|BloodPressure|SkinThickness|Insulin| BMI|DiabetesPedigreeFunction|Age|Outcome|\n",
      "+-----------+-------+-------------+-------------+-------+----+------------------------+---+-------+\n",
      "|          6|    148|           72|         35.0|   29.0|33.6|                   0.627| 50|      1|\n",
      "|          1|     85|           66|         29.0|   29.0|26.6|                   0.351| 31|      0|\n",
      "|          8|    183|           64|         23.0|   29.0|23.3|                   0.672| 32|      1|\n",
      "|          1|     89|           66|         23.0|   94.0|28.1|                   0.167| 21|      0|\n",
      "|          0|    137|           40|         35.0|  168.0|43.1|                   2.288| 33|      1|\n",
      "|          5|    116|           74|         23.0|   29.0|25.6|                   0.201| 30|      0|\n",
      "|          3|     78|           50|         32.0|   88.0|31.0|                   0.248| 26|      1|\n",
      "|         10|    115|            0|         23.0|   29.0|35.3|                   0.134| 29|      0|\n",
      "|          2|    197|           70|         45.0|  543.0|30.5|                   0.158| 53|      1|\n",
      "|          8|    125|           96|         23.0|   29.0| 0.0|                   0.232| 54|      1|\n",
      "|          4|    110|           92|         23.0|   29.0|37.6|                   0.191| 30|      0|\n",
      "|         10|    168|           74|         23.0|   29.0|38.0|                   0.537| 34|      1|\n",
      "|         10|    139|           80|         23.0|   29.0|27.1|                   1.441| 57|      0|\n",
      "|          1|    189|           60|         23.0|  846.0|30.1|                   0.398| 59|      1|\n",
      "|          5|    166|           72|         19.0|  175.0|25.8|                   0.587| 51|      1|\n",
      "|          7|    100|            0|         23.0|   29.0|30.0|                   0.484| 32|      1|\n",
      "|          0|    118|           84|         47.0|  230.0|45.8|                   0.551| 31|      1|\n",
      "|          7|    107|           74|         23.0|   29.0|29.6|                   0.254| 31|      1|\n",
      "|          1|    103|           30|         38.0|   83.0|43.3|                   0.183| 33|      0|\n",
      "|          1|    115|           70|         30.0|   96.0|34.6|                   0.529| 32|      1|\n",
      "+-----------+-------+-------------+-------------+-------+----+------------------------+---+-------+\n",
      "only showing top 20 rows\n",
      "\n"
     ]
    }
   ],
   "source": [
    "from pyspark.sql.functions import col, when\n",
    "\n",
    "def replace_missing_and_zeros(df, column_name, value):\n",
    "    new_df = df.withColumn(column_name, when((col(column_name).isNull()) | (col(column_name) == 0), value).otherwise(col(column_name)))\n",
    "    return new_df\n",
    "\n",
    "# Replace missing values and zeros with medians\n",
    "replaced_df = replace_missing_and_zeros(df, 'SkinThickness', skin_thickness_median)\n",
    "replaced_df = replace_missing_and_zeros(replaced_df, 'Insulin', insulin_median)\n",
    "\n",
    "# Show the replaced DataFrame\n",
    "replaced_df.show()\n"
   ]
  },
  {
   "cell_type": "code",
   "execution_count": 14,
   "id": "9e15f2b0",
   "metadata": {
    "scrolled": true
   },
   "outputs": [],
   "source": [
    "# from pyspark.sql.functions import col, when\n",
    "\n",
    "# # Calculate median values\n",
    "# skin_thickness_median = df.selectExpr(\"percentile_approx(SkinThickness, 0.5)\").collect()[0][0]\n",
    "# insulin_median = df.selectExpr(\"percentile_approx(Insulin, 0.5)\").collect()[0][0]\n",
    "\n",
    "# # Replace null or zero values with median values\n",
    "# replaced_df = df.withColumn('SkinThickness', when((col('SkinThickness').isNull()) | (col('SkinThickness') == 0), skin_thickness_median).otherwise(col('SkinThickness'))) \\\n",
    "#                 .withColumn('Insulin', when((col('Insulin').isNull()) | (col('Insulin') == 0), insulin_median).otherwise(col('Insulin')))\n",
    "\n",
    "# print(\"Skin Median: \", skin_thickness_median)\n",
    "# print(\"Insulin Median: \", insulin_median)\n",
    "\n",
    "# # Show the replaced DataFrame\n",
    "# replaced_df.show()"
   ]
  },
  {
   "cell_type": "code",
   "execution_count": 15,
   "id": "5f296b73",
   "metadata": {
    "scrolled": true
   },
   "outputs": [
    {
     "name": "stdout",
     "output_type": "stream",
     "text": [
      "Missing values count:  0\n",
      "Null values count:  0\n"
     ]
    }
   ],
   "source": [
    "missing_count(replaced_df, 'SkinThickness')"
   ]
  },
  {
   "cell_type": "code",
   "execution_count": 16,
   "id": "baeb3497",
   "metadata": {},
   "outputs": [
    {
     "name": "stdout",
     "output_type": "stream",
     "text": [
      "Missing values count:  0\n",
      "Null values count:  0\n"
     ]
    }
   ],
   "source": [
    "missing_count(replaced_df, 'Insulin')"
   ]
  },
  {
   "cell_type": "code",
   "execution_count": 17,
   "id": "0aefc872",
   "metadata": {
    "scrolled": true
   },
   "outputs": [
    {
     "name": "stdout",
     "output_type": "stream",
     "text": [
      "Missing values count:  5\n",
      "Null values count:  0\n"
     ]
    }
   ],
   "source": [
    "missing_count(replaced_df, 'Glucose')"
   ]
  },
  {
   "cell_type": "code",
   "execution_count": 18,
   "id": "562efcdc",
   "metadata": {},
   "outputs": [
    {
     "name": "stdout",
     "output_type": "stream",
     "text": [
      "Missing values count:  35\n",
      "Null values count:  0\n"
     ]
    }
   ],
   "source": [
    "missing_count(replaced_df, 'BloodPressure')"
   ]
  },
  {
   "cell_type": "code",
   "execution_count": 19,
   "id": "84831dce",
   "metadata": {},
   "outputs": [
    {
     "name": "stdout",
     "output_type": "stream",
     "text": [
      "Missing values count:  11\n",
      "Null values count:  0\n"
     ]
    }
   ],
   "source": [
    "missing_count(replaced_df, 'BMI')"
   ]
  },
  {
   "cell_type": "code",
   "execution_count": 20,
   "id": "b3da8050",
   "metadata": {},
   "outputs": [
    {
     "name": "stdout",
     "output_type": "stream",
     "text": [
      "Total number of rows removed: 44\n"
     ]
    }
   ],
   "source": [
    "# Filter rows with null/missing values in 'Glucose', 'BloodPressure', or 'BMI' columns\n",
    "df_filtered = replaced_df.filter((col('Glucose') != 0) & (col('BloodPressure') != 0) & (col('BMI') != 0))\n",
    "\n",
    "# Compute the total number of rows removed\n",
    "rows_removed = replaced_df.count() - df_filtered.count()\n",
    "\n",
    "# Display the total number of rows removed\n",
    "print(\"Total number of rows removed:\", rows_removed)"
   ]
  },
  {
   "cell_type": "code",
   "execution_count": 21,
   "id": "f1fa10d6",
   "metadata": {
    "scrolled": true
   },
   "outputs": [
    {
     "name": "stdout",
     "output_type": "stream",
     "text": [
      "Missing values count:  0\n",
      "Null values count:  0\n"
     ]
    }
   ],
   "source": [
    "missing_count(df_filtered, 'Glucose')"
   ]
  },
  {
   "cell_type": "code",
   "execution_count": 22,
   "id": "880e4b7f",
   "metadata": {
    "scrolled": true
   },
   "outputs": [
    {
     "name": "stdout",
     "output_type": "stream",
     "text": [
      "Missing values count:  0\n",
      "Null values count:  0\n"
     ]
    }
   ],
   "source": [
    "missing_count(df_filtered, 'BloodPressure')"
   ]
  },
  {
   "cell_type": "code",
   "execution_count": 23,
   "id": "95542a9d",
   "metadata": {},
   "outputs": [
    {
     "name": "stdout",
     "output_type": "stream",
     "text": [
      "Missing values count:  0\n",
      "Null values count:  0\n"
     ]
    }
   ],
   "source": [
    "missing_count(df_filtered, 'BMI')"
   ]
  },
  {
   "cell_type": "code",
   "execution_count": 24,
   "id": "79af8861",
   "metadata": {},
   "outputs": [
    {
     "name": "stdout",
     "output_type": "stream",
     "text": [
      "+-------+-------+-------------+-------------+-------+------+------------------------+------+-------+\n",
      "|summary|Glucose|BloodPressure|SkinThickness|Insulin|   BMI|DiabetesPedigreeFunction|   Age|Outcome|\n",
      "+-------+-------+-------------+-------------+-------+------+------------------------+------+-------+\n",
      "|  count| 724.00|       724.00|       724.00| 724.00|724.00|                  724.00|724.00| 724.00|\n",
      "|   mean| 121.88|        72.40|        27.54|  97.79| 32.47|                    0.47| 33.35|   0.34|\n",
      "| stddev|  30.75|        12.38|         9.42| 107.94|  6.89|                    0.33| 11.77|   0.48|\n",
      "|    min|  44.00|        24.00|         7.00|  14.00| 18.20|                    0.08| 21.00|   0.00|\n",
      "|    max| 199.00|       122.00|        99.00| 846.00| 67.10|                    2.42| 81.00|   1.00|\n",
      "+-------+-------+-------------+-------------+-------+------+------------------------+------+-------+\n",
      "\n"
     ]
    }
   ],
   "source": [
    "from pyspark.sql.functions import format_number\n",
    "\n",
    "# Perform describe and format the columns\n",
    "describe_df = df_filtered.describe()\n",
    "formatted_df = describe_df.select(\n",
    "    describe_df['summary'],\n",
    "    *(format_number(describe_df[col].cast('float'), 2).alias(col) for col in df.columns[1:])\n",
    ")\n",
    "\n",
    "# Show the formatted DataFrame\n",
    "formatted_df.show()"
   ]
  },
  {
   "cell_type": "markdown",
   "id": "398ace3f",
   "metadata": {},
   "source": [
    "# Feature Analysis"
   ]
  },
  {
   "cell_type": "code",
   "execution_count": 25,
   "id": "d86de32c",
   "metadata": {},
   "outputs": [
    {
     "name": "stdout",
     "output_type": "stream",
     "text": [
      "+-------------+---------+---------+----------+------------+--------+------------------+\n",
      "|BloodPressure|Min Value|Max Value|Mean Value|Median Value|Variance|Standard Deviation|\n",
      "+-------------+---------+---------+----------+------------+--------+------------------+\n",
      "|       Values|       24|      122|     72.40|        72.0|  153.26|             12.38|\n",
      "+-------------+---------+---------+----------+------------+--------+------------------+\n",
      "\n"
     ]
    }
   ],
   "source": [
    "from pyspark.sql.functions import lit, min, max, mean, median, stddev, variance\n",
    "\n",
    "summary_stats = df_filtered.select(\n",
    "    lit('Values').alias('BloodPressure'),\n",
    "    min('BloodPressure').alias('Min Value'),\n",
    "    max('BloodPressure').alias('Max Value'),\n",
    "    format_number(mean('BloodPressure'),2).alias('Mean Value'),\n",
    "    median('BloodPressure').alias('Median Value'),\n",
    "    format_number(variance('BloodPressure'),2).alias('Variance'),\n",
    "    format_number(stddev('BloodPressure'),2).alias('Standard Deviation')\n",
    ")\n",
    "summary_stats.show()"
   ]
  },
  {
   "cell_type": "markdown",
   "id": "643179c1",
   "metadata": {},
   "source": [
    "This code converts the 'BloodPressure' column from the DataFrame into a list using rdd.flatMap(lambda x: x).collect(), and then plots the histogram using plt.hist().The number of bins, the color of the edges, and the labels and title of the plot are customized according to desired preference."
   ]
  },
  {
   "cell_type": "code",
   "execution_count": 26,
   "id": "92a436ad",
   "metadata": {},
   "outputs": [
    {
     "name": "stderr",
     "output_type": "stream",
     "text": [
      "                                                                                \r"
     ]
    },
    {
     "data": {
      "image/png": "[encoded data removed]",
      "text/plain": [
       "<Figure size 640x480 with 1 Axes>"
      ]
     },
     "metadata": {},
     "output_type": "display_data"
    }
   ],
   "source": [
    "import matplotlib.pyplot as plt\n",
    "\n",
    "# Convert the 'BloodPressure' column to a list\n",
    "blood_pressure_data = df_filtered.select('BloodPressure').rdd.flatMap(lambda x: x).collect()\n",
    "\n",
    "# Plot the histogram\n",
    "plt.hist(blood_pressure_data, bins=10, edgecolor='black')\n",
    "\n",
    "# Add labels and title\n",
    "plt.xlabel('Blood Pressure')\n",
    "plt.ylabel('Frequency')\n",
    "plt.title('Histogram of Blood Pressure')\n",
    "\n",
    "# Show the histogram\n",
    "plt.show()\n"
   ]
  },
  {
   "cell_type": "markdown",
   "id": "66e6db43",
   "metadata": {},
   "source": [
    "We can observe the following information about the distribution of the 'BloodPressure' feature:\n",
    "\n",
    "Range: The minimum value is 24 and the maximum value is 122, indicating a range of blood pressure measurements.\n",
    "Central Tendency: The mean value is 72.40 and the median value is 72.0. This suggests that the central tendency of the distribution is around 72, indicating a relatively balanced distribution.\n",
    "Variability: The variance is 153.26 and the standard deviation is 12.38. These measures indicate the spread or variability of the data points around the mean. A higher variance or standard deviation suggests greater dispersion in the data."
   ]
  },
  {
   "cell_type": "code",
   "execution_count": 27,
   "id": "21c150d8",
   "metadata": {
    "scrolled": false
   },
   "outputs": [
    {
     "name": "stdout",
     "output_type": "stream",
     "text": [
      "+-------+----+\n",
      "|summary| BMI|\n",
      "+-------+----+\n",
      "|    25%|27.5|\n",
      "|    50%|32.4|\n",
      "|    75%|36.6|\n",
      "|   100%|67.1|\n",
      "+-------+----+\n",
      "\n"
     ]
    }
   ],
   "source": [
    "df_filtered.select('BMI').summary(\"25%\", \"50%\", \"75%\", \"100%\").show()"
   ]
  },
  {
   "cell_type": "code",
   "execution_count": 28,
   "id": "61aa9a44",
   "metadata": {
    "scrolled": false
   },
   "outputs": [
    {
     "name": "stdout",
     "output_type": "stream",
     "text": [
      "First Quartile (Q1): 27.5\n",
      "Second Quartile (Q2 / Median): 32.4\n",
      "Third Quartile (Q3): 36.6\n"
     ]
    },
    {
     "data": {
      "image/png": "[encoded data removed]",
      "text/plain": [
       "<Figure size 640x480 with 1 Axes>"
      ]
     },
     "metadata": {},
     "output_type": "display_data"
    }
   ],
   "source": [
    "import matplotlib.pyplot as plt\n",
    "\n",
    "# Calculate the quartiles of 'BMI' feature\n",
    "quartiles = df_filtered.select('BMI').approxQuantile('BMI', [0.25, 0.5, 0.75], 0.0)\n",
    "\n",
    "# Display the quartile information\n",
    "print(\"First Quartile (Q1):\", quartiles[0])\n",
    "print(\"Second Quartile (Q2 / Median):\", quartiles[1])\n",
    "print(\"Third Quartile (Q3):\", quartiles[2])\n",
    "\n",
    "# Generate a boxplot\n",
    "bmi_data = df_filtered.select('BMI').rdd.flatMap(lambda x: x).collect()\n",
    "\n",
    "plt.boxplot(bmi_data, vert=True)\n",
    "\n",
    "# Add labels and title\n",
    "plt.xlabel('BMI')\n",
    "plt.ylabel('Distribution')\n",
    "plt.title('Boxplot of BMI')\n",
    "\n",
    "# Show the boxplot\n",
    "plt.show()\n"
   ]
  },
  {
   "cell_type": "code",
   "execution_count": 29,
   "id": "6551ee7b",
   "metadata": {},
   "outputs": [
    {
     "data": {
      "image/png": "[encoded data removed]",
      "text/plain": [
       "<Figure size 640x480 with 1 Axes>"
      ]
     },
     "metadata": {},
     "output_type": "display_data"
    }
   ],
   "source": [
    "import matplotlib.pyplot as plt\n",
    "import numpy as np\n",
    "from sklearn.linear_model import LinearRegression\n",
    "\n",
    "# Extract the 'BMI' and 'SkinThickness' data\n",
    "bmi_data = df_filtered.select('BMI').rdd.flatMap(lambda x: x).collect()\n",
    "skin_thickness_data = df_filtered.select('SkinThickness').rdd.flatMap(lambda x: x).collect()\n",
    "\n",
    "# Convert the data to NumPy arrays\n",
    "X = np.array(bmi_data).reshape(-1, 1)\n",
    "y = np.array(skin_thickness_data)\n",
    "\n",
    "# Fit the linear regression model\n",
    "regressor = LinearRegression()\n",
    "regressor.fit(X, y)\n",
    "\n",
    "# Predict the skin thickness values based on BMI\n",
    "y_pred = regressor.predict(X)\n",
    "\n",
    "# Create the scatter plot and line plot\n",
    "plt.scatter(X, y, label='Actual Data')\n",
    "plt.plot(X, y_pred, color='red', label='Regression Line')\n",
    "\n",
    "# Add labels and title\n",
    "plt.xlabel('BMI')\n",
    "plt.ylabel('Skin Thickness')\n",
    "plt.title('Relationship between BMI and Skin Thickness')\n",
    "\n",
    "# Add the equation of the regression line as annotation\n",
    "equation = f'Skin Thickness = {regressor.coef_[0]:.2f} * BMI + {regressor.intercept_:.2f}'\n",
    "plt.annotate(equation, xy=(0.4, 80), fontsize=12)\n",
    "\n",
    "# Add legend\n",
    "plt.legend()\n",
    "\n",
    "# Show the plot\n",
    "plt.show()"
   ]
  },
  {
   "cell_type": "code",
   "execution_count": 30,
   "id": "dfc9c361",
   "metadata": {},
   "outputs": [
    {
     "name": "stdout",
     "output_type": "stream",
     "text": [
      "Pearson correlation coefficient:  0.5600712181851464\n"
     ]
    }
   ],
   "source": [
    "from pyspark.sql.functions import corr\n",
    "\n",
    "# Compute the Pearson correlation\n",
    "correlation = df_filtered.select(corr('BMI', 'SkinThickness')).first()[0]\n",
    "\n",
    "# Print the correlation coefficient\n",
    "print(\"Pearson correlation coefficient: \", correlation)"
   ]
  },
  {
   "cell_type": "markdown",
   "id": "cda17630",
   "metadata": {},
   "source": [
    "In this code, we first use a VectorAssembler to combine the 'BMI' and 'SkinThickness' features into a single feature vector. Then, we compute the correlation matrix using the Correlation.corr() function. We extract the Pearson correlation value from the correlation matrix and print it.\n",
    "\n",
    "Next, we generate a scatter plot to visualize the relationship between the 'BMI' and 'SkinThickness' features. We collect the 'BMI' and 'SkinThickness' values from the DataFrame and use plt.scatter() to plot them. Finally, we add labels and a title to the plot and display it.\n",
    "\n",
    "The scatter plot allows you to visually explore and describe the relationship between the 'BMI' and 'SkinThickness' features, while the computed Pearson correlation provides a quantitative measure of the correlation between the two features."
   ]
  },
  {
   "cell_type": "code",
   "execution_count": 31,
   "id": "971adcf6",
   "metadata": {},
   "outputs": [
    {
     "name": "stdout",
     "output_type": "stream",
     "text": [
      "+---+-------------+\n",
      "|Age|BloodPressure|\n",
      "+---+-------------+\n",
      "| 37|          108|\n",
      "| 27|          122|\n",
      "| 26|          110|\n",
      "| 45|          102|\n",
      "| 41|          104|\n",
      "| 37|          110|\n",
      "| 43|          106|\n",
      "| 47|          106|\n",
      "| 44|          114|\n",
      "+---+-------------+\n",
      "\n"
     ]
    }
   ],
   "source": [
    "# SQL query to select 'Age' and 'BloodPressure' where conditions are met\n",
    "df_filtered.createOrReplaceTempView('df_filtered')\n",
    "\n",
    "query = '''\n",
    "SELECT Age, BloodPressure\n",
    "FROM df_filtered\n",
    "WHERE Age < 50 AND BloodPressure > 100\n",
    "'''\n",
    "\n",
    "result = spark.sql(query)\n",
    "result.show()"
   ]
  },
  {
   "cell_type": "code",
   "execution_count": 32,
   "id": "29c3c17a",
   "metadata": {},
   "outputs": [
    {
     "name": "stdout",
     "output_type": "stream",
     "text": [
      "Number of records:  9\n"
     ]
    }
   ],
   "source": [
    "# Get the count of the resulting records\n",
    "record_count = result.count()\n",
    "# Print the count\n",
    "print(\"Number of records: \", record_count)"
   ]
  },
  {
   "cell_type": "markdown",
   "id": "64cb6c08",
   "metadata": {},
   "source": [
    "In this code, we first create a temporary view for the 3rd DataFrame using the createOrReplaceTempView() method. Then, we define a SQL query using the SELECT statement to retrieve the 'Age' and 'BloodPressure' columns from the DataFrame. We apply the WHERE clause to filter the rows where 'Age' is less than 50 and 'BloodPressure' is greater than 100.\n",
    "\n",
    "Finally, we execute the SQL query using spark.sql() and display the result using the show() method."
   ]
  },
  {
   "cell_type": "markdown",
   "id": "7741449a",
   "metadata": {},
   "source": [
    "# DicisionTree Classifier"
   ]
  },
  {
   "cell_type": "markdown",
   "id": "c8814a4b",
   "metadata": {},
   "source": [
    "# Data preprossing"
   ]
  },
  {
   "cell_type": "code",
   "execution_count": 33,
   "id": "e8cd9915",
   "metadata": {},
   "outputs": [],
   "source": [
    "from pyspark.ml.feature import VectorAssembler\n",
    "\n",
    "# Create a vector assembler to combine the predictor features into a single vector column\n",
    "assembler = VectorAssembler(inputCols=df_filtered.columns[:-1], outputCol='features')\n",
    "\n",
    "# # Transform the DataFrame to include the vectorized features\n",
    "# assembled_data = assembler.transform(df_filtered).select('features', 'Outcome')\n",
    "\n",
    "# Check the resulting column\n",
    "# assembled_data.select('features', 'Outcome').show(5, truncate=False)"
   ]
  },
  {
   "cell_type": "markdown",
   "id": "a52409f3",
   "metadata": {},
   "source": [
    "Split train and test data"
   ]
  },
  {
   "cell_type": "code",
   "execution_count": 34,
   "id": "13d38b56",
   "metadata": {},
   "outputs": [],
   "source": [
    "# Split the data into training and test sets (80% for training, 20% for testing)\n",
    "train_data, test_data = df_filtered.randomSplit([0.8, 0.2], seed=17)"
   ]
  },
  {
   "cell_type": "code",
   "execution_count": 35,
   "id": "bd40e3ed",
   "metadata": {},
   "outputs": [
    {
     "name": "stdout",
     "output_type": "stream",
     "text": [
      "0.7983425414364641\n"
     ]
    }
   ],
   "source": [
    "# Check that training set has around 80% of records\n",
    "training_ratio = train_data.count() / df_filtered.count() \n",
    "print(training_ratio)"
   ]
  },
  {
   "cell_type": "markdown",
   "id": "8f0df8d1",
   "metadata": {},
   "source": [
    "Build the Decision Tree classifier:"
   ]
  },
  {
   "cell_type": "code",
   "execution_count": 36,
   "id": "044ddb61",
   "metadata": {},
   "outputs": [],
   "source": [
    "from pyspark.ml.classification import DecisionTreeClassifier\n",
    "from pyspark.ml import Pipeline\n",
    "\n",
    "\n",
    "# Create a Decision Tree classifier\n",
    "tree = DecisionTreeClassifier(labelCol='Outcome', featuresCol='features')\n",
    "\n",
    "# Create a pipeline with the assembler and tree classifier\n",
    "pipeline = Pipeline(stages=[assembler, tree])\n"
   ]
  },
  {
   "cell_type": "code",
   "execution_count": 37,
   "id": "2d215d37",
   "metadata": {},
   "outputs": [],
   "source": [
    "# Train the model\n",
    "model = pipeline.fit(train_data)"
   ]
  },
  {
   "cell_type": "markdown",
   "id": "0440223a",
   "metadata": {},
   "source": [
    "Make predictions on the test data:"
   ]
  },
  {
   "cell_type": "code",
   "execution_count": 38,
   "id": "cdaaff5d",
   "metadata": {},
   "outputs": [],
   "source": [
    "predictions = model.transform(test_data)"
   ]
  },
  {
   "cell_type": "code",
   "execution_count": 39,
   "id": "456cdf23",
   "metadata": {},
   "outputs": [
    {
     "name": "stdout",
     "output_type": "stream",
     "text": [
      "+-------+----------+-----------------------------------------+\n",
      "|Outcome|prediction|probability                              |\n",
      "+-------+----------+-----------------------------------------+\n",
      "|0      |0.0       |[0.7430555555555556,0.2569444444444444]  |\n",
      "|0      |0.0       |[0.8571428571428571,0.14285714285714285] |\n",
      "|0      |0.0       |[0.7430555555555556,0.2569444444444444]  |\n",
      "|0      |0.0       |[0.9814814814814815,0.018518518518518517]|\n",
      "|0      |0.0       |[0.9814814814814815,0.018518518518518517]|\n",
      "+-------+----------+-----------------------------------------+\n",
      "only showing top 5 rows\n",
      "\n"
     ]
    }
   ],
   "source": [
    "# Take a look at the predictions\n",
    "predictions.select('Outcome', 'prediction', 'probability').show(5, False)"
   ]
  },
  {
   "cell_type": "code",
   "execution_count": 40,
   "id": "b89186b9",
   "metadata": {},
   "outputs": [
    {
     "name": "stdout",
     "output_type": "stream",
     "text": [
      "Area Under ROC Curve: 0.72\n"
     ]
    }
   ],
   "source": [
    "from pyspark.ml.evaluation import BinaryClassificationEvaluator\n",
    "\n",
    "# Create a binary classification evaluator\n",
    "evaluator = BinaryClassificationEvaluator(labelCol='Outcome')\n",
    "\n",
    "# Compute the area under the ROC curve\n",
    "auc = evaluator.evaluate(predictions, {evaluator.metricName: 'areaUnderROC'})\n",
    "\n",
    "# Print the AUC score\n",
    "print('Area Under ROC Curve: {:.2f}'.format(auc))\n"
   ]
  },
  {
   "cell_type": "code",
   "execution_count": 41,
   "id": "983f1f6b",
   "metadata": {},
   "outputs": [],
   "source": [
    "# !pip install pysparkling"
   ]
  },
  {
   "cell_type": "code",
   "execution_count": 42,
   "id": "a3bcd81b",
   "metadata": {},
   "outputs": [
    {
     "name": "stderr",
     "output_type": "stream",
     "text": [
      "                                                                                \r"
     ]
    },
    {
     "data": {
      "image/png": "[encoded data removed]",
      "text/plain": [
       "<Figure size 640x480 with 1 Axes>"
      ]
     },
     "metadata": {},
     "output_type": "display_data"
    }
   ],
   "source": [
    "from pyspark.ml.evaluation import BinaryClassificationEvaluator\n",
    "import matplotlib.pyplot as plt\n",
    "from sklearn.metrics import roc_curve\n",
    "\n",
    "# Create a binary classification evaluator\n",
    "evaluator = BinaryClassificationEvaluator(labelCol='Outcome')\n",
    "\n",
    "# Compute the raw scores (probability of positive class)\n",
    "raw_scores = predictions.select('Outcome', 'probability') \\\n",
    "    .rdd.map(lambda row: (float(row['probability'][1]), float(row['Outcome'])))\n",
    "scores = raw_scores.collect()\n",
    "\n",
    "# Prepare the ROC curve data\n",
    "y_true = [score[1] for score in scores]\n",
    "y_scores = [score[0] for score in scores]\n",
    "\n",
    "# Compute the false positive rate, true positive rate, and threshold\n",
    "fpr, tpr, thresholds = roc_curve(y_true, y_scores)\n",
    "\n",
    "# Plot the ROC curve\n",
    "plt.plot(fpr, tpr, label='ROC Curve')\n",
    "plt.plot([0, 1], [0, 1], 'k--', label='Random')\n",
    "plt.xlabel('False Positive Rate')\n",
    "plt.ylabel('True Positive Rate')\n",
    "plt.title('Receiver Operating Characteristic')\n",
    "plt.legend(loc='lower right')\n",
    "plt.show()"
   ]
  },
  {
   "cell_type": "markdown",
   "id": "f56401cc",
   "metadata": {},
   "source": [
    "An Area Under the ROC Curve (AUC) score of 0.76 suggests that the Decision Tree classifier has moderate predictive performance for the 'Outcome' feature in the 3rd DataFrame. The AUC score ranges from 0 to 1, with higher values indicating better predictive ability.\n",
    "\n",
    "A score of 0.76 indicates that the classifier has a reasonable ability to distinguish between positive and negative outcomes. However, it is important to note that the interpretation of the AUC score may vary depending on the specific problem and domain.\n",
    "\n",
    "To further evaluate the performance of the model and make more comprehensive conclusions, you can consider additional evaluation metrics such as accuracy, precision, recall, and F1-score. These metrics provide a more detailed understanding of the classifier's performance across different aspects of classification."
   ]
  },
  {
   "cell_type": "code",
   "execution_count": 43,
   "id": "d60d87d7",
   "metadata": {
    "scrolled": false
   },
   "outputs": [
    {
     "name": "stdout",
     "output_type": "stream",
     "text": [
      "   Outcome  prediction  count\n",
      "0        0         0.0     83\n",
      "1        0         1.0     10\n",
      "2        1         0.0     25\n",
      "3        1         1.0     28\n"
     ]
    }
   ],
   "source": [
    "from pyspark.ml.evaluation import MulticlassClassificationEvaluator\n",
    "\n",
    "# Create a MulticlassClassificationEvaluator\n",
    "evaluator = MulticlassClassificationEvaluator(labelCol='Outcome')\n",
    "\n",
    "# Convert predictions DataFrame to Pandas DataFrame for easier manipulation\n",
    "confusion_matrix = predictions.groupBy('Outcome', 'prediction').count()\n",
    "confusion_matrix = confusion_matrix.orderBy('Outcome', 'prediction').toPandas()\n",
    "# Display the confusion matrix\n",
    "print(confusion_matrix)"
   ]
  },
  {
   "cell_type": "code",
   "execution_count": 44,
   "id": "4c35cefb",
   "metadata": {
    "scrolled": false
   },
   "outputs": [
    {
     "data": {
      "image/png": "[encoded data removed]",
      "text/plain": [
       "<Figure size 640x480 with 2 Axes>"
      ]
     },
     "metadata": {},
     "output_type": "display_data"
    }
   ],
   "source": [
    "import numpy as np\n",
    "import seaborn as sns\n",
    "from sklearn.metrics import confusion_matrix, accuracy_score\n",
    "\n",
    "# Extract the true labels and predicted labels\n",
    "true_labels = predictions.select('Outcome').toPandas()['Outcome']\n",
    "predicted_labels = predictions.select('prediction').toPandas()['prediction']\n",
    "\n",
    "#Accuracy\n",
    "accuracy = accuracy_score(true_labels, predicted_labels)\n",
    "\n",
    "# Compute the confusion matrix\n",
    "cm = confusion_matrix(true_labels, predicted_labels)\n",
    "\n",
    "# Create a heatmap of the confusion matrix\n",
    "sns.heatmap(cm, annot=True, fmt='d', cmap='Blues')\n",
    "plt.xlabel('Predicted Class')\n",
    "plt.ylabel('True Class')\n",
    "plt.title('Confusion Matrix\\nAccuracy: {:.2f}'.format(accuracy))\n",
    "plt.show()"
   ]
  },
  {
   "cell_type": "markdown",
   "id": "649ec5e3",
   "metadata": {},
   "source": [
    "More Evaluation"
   ]
  },
  {
   "cell_type": "code",
   "execution_count": 45,
   "id": "13f2f0f1",
   "metadata": {},
   "outputs": [
    {
     "name": "stdout",
     "output_type": "stream",
     "text": [
      "Accuracy: 0.7602739726027398\n",
      "Precision: 0.7570195465833534\n",
      "Recall: 0.7602739726027398\n",
      "F1-score: 0.7494613340043723\n"
     ]
    }
   ],
   "source": [
    "from pyspark.ml.evaluation import MulticlassClassificationEvaluator\n",
    "\n",
    "# Select the predicted label and actual label columns\n",
    "predictions = predictions.select('prediction', 'Outcome')\n",
    "\n",
    "# Create a MulticlassClassificationEvaluator\n",
    "evaluator = MulticlassClassificationEvaluator(labelCol='Outcome', predictionCol='prediction')\n",
    "\n",
    "# Calculate accuracy\n",
    "accuracy = evaluator.evaluate(predictions, {evaluator.metricName: 'accuracy'})\n",
    "\n",
    "# Calculate precision\n",
    "precision = evaluator.evaluate(predictions, {evaluator.metricName: 'weightedPrecision'})\n",
    "\n",
    "# Calculate recall\n",
    "recall = evaluator.evaluate(predictions, {evaluator.metricName: 'weightedRecall'})\n",
    "\n",
    "# Calculate F1-score\n",
    "f1_score = evaluator.evaluate(predictions, {evaluator.metricName: 'f1'})\n",
    "\n",
    "# Print the evaluation metrics\n",
    "print('Accuracy:', accuracy)\n",
    "print('Precision:', precision)\n",
    "print('Recall:', recall)\n",
    "print('F1-score:', f1_score)"
   ]
  },
  {
   "cell_type": "markdown",
   "id": "ea1473c7",
   "metadata": {},
   "source": [
    "Based on the evaluation metrics, here is an analysis of the performance of the Decision Tree classifier:\n",
    "\n",
    "Accuracy: 0.7643979057591623\n",
    "The accuracy represents the proportion of correct predictions out of all the predictions made. In this case, the model achieved an accuracy of approximately 76.44%, indicating that it correctly classified around 76.44% of the instances.\n",
    "Precision: 0.7586386019144838\n",
    "Precision is the ratio of true positive predictions to the total number of positive predictions made by the model. It measures the model's ability to avoid false positives. A precision of 0.7586 indicates that out of all the instances predicted as positive by the model, around 75.86% were actually positive.\n",
    "Recall: 0.7643979057591623\n",
    "Recall, also known as sensitivity or true positive rate, is the ratio of true positive predictions to the total number of actual positive instances in the dataset. It measures the model's ability to identify positive instances. A recall of 0.7644 suggests that the model correctly identified approximately 76.44% of the positive instances.\n",
    "F1-score: 0.7576090800171288\n",
    "The F1-score is the harmonic mean of precision and recall, providing a single metric to evaluate the model's overall performance. It balances the trade-off between precision and recall. An F1-score of 0.7576 indicates a reasonably balanced performance of the model in terms of precision and recall.\n",
    "\n",
    "Overall, the Decision Tree classifier achieved moderate performance on the given dataset."
   ]
  },
  {
   "cell_type": "markdown",
   "id": "a2f9d729",
   "metadata": {},
   "source": [
    "# Logistic Regression classifier"
   ]
  },
  {
   "cell_type": "markdown",
   "id": "1063670b",
   "metadata": {},
   "source": [
    "Create the Logistic Regression classifier"
   ]
  },
  {
   "cell_type": "code",
   "execution_count": 46,
   "id": "5df95c84",
   "metadata": {},
   "outputs": [],
   "source": [
    "from pyspark.ml.classification import LogisticRegression\n",
    "\n",
    "# Create the Logistic Regression classifier\n",
    "lr = LogisticRegression(labelCol=\"Outcome\", featuresCol=\"features\")"
   ]
  },
  {
   "cell_type": "markdown",
   "id": "4f484792",
   "metadata": {},
   "source": [
    "Create the pipeline"
   ]
  },
  {
   "cell_type": "code",
   "execution_count": 47,
   "id": "514e5d9a",
   "metadata": {},
   "outputs": [],
   "source": [
    "from pyspark.ml import Pipeline\n",
    "\n",
    "# Create the pipeline\n",
    "pipeline = Pipeline(stages=[assembler, lr])"
   ]
  },
  {
   "cell_type": "markdown",
   "id": "ac554267",
   "metadata": {},
   "source": [
    "Fit the model to the training data"
   ]
  },
  {
   "cell_type": "code",
   "execution_count": 48,
   "id": "b5be1f86",
   "metadata": {},
   "outputs": [
    {
     "name": "stderr",
     "output_type": "stream",
     "text": [
      "23/06/02 19:08:54 WARN InstanceBuilder: Failed to load implementation from:dev.ludovic.netlib.blas.JNIBLAS\n",
      "23/06/02 19:08:54 WARN InstanceBuilder: Failed to load implementation from:dev.ludovic.netlib.blas.VectorBLAS\n"
     ]
    }
   ],
   "source": [
    "# Fit the model to the training data\n",
    "model = pipeline.fit(train_data)"
   ]
  },
  {
   "cell_type": "markdown",
   "id": "318f59da",
   "metadata": {},
   "source": [
    "Make predictions on the testing data"
   ]
  },
  {
   "cell_type": "code",
   "execution_count": 49,
   "id": "20829fa2",
   "metadata": {},
   "outputs": [],
   "source": [
    "# Make predictions on the testing data\n",
    "predictions = model.transform(test_data)"
   ]
  },
  {
   "cell_type": "markdown",
   "id": "3bf1012c",
   "metadata": {},
   "source": [
    "Evaluate the model's performance"
   ]
  },
  {
   "cell_type": "code",
   "execution_count": 50,
   "id": "bd34bafa",
   "metadata": {},
   "outputs": [
    {
     "name": "stdout",
     "output_type": "stream",
     "text": [
      "Area Under ROC Curve: 0.8330290119699726\n",
      "Accuracy: 0.7534246575342466\n",
      "Precision: 0.7428571428571429\n",
      "Recall: 0.49056603773584906\n",
      "F1-score: 0.5909090909090909\n"
     ]
    }
   ],
   "source": [
    "# Evaluate the model's performance\n",
    "evaluator = BinaryClassificationEvaluator(labelCol=\"Outcome\")\n",
    "areaUnderROC = evaluator.evaluate(predictions, {evaluator.metricName: \"areaUnderROC\"})\n",
    "\n",
    "# Additional evaluation metrics\n",
    "accuracy = predictions.filter((predictions.Outcome == predictions.prediction)).count() / predictions.count()\n",
    "\n",
    "tp = predictions.filter((predictions.Outcome == 1) & (predictions.prediction == 1)).count()\n",
    "fp = predictions.filter((predictions.Outcome == 0) & (predictions.prediction == 1)).count()\n",
    "fn = predictions.filter((predictions.Outcome == 1) & (predictions.prediction == 0)).count()\n",
    "\n",
    "precision = tp / (tp + fp)\n",
    "recall = tp / (tp + fn)\n",
    "f1_score = 2 * (precision * recall) / (precision + recall)\n",
    "\n",
    "print(\"Area Under ROC Curve:\", areaUnderROC)\n",
    "print(\"Accuracy:\", accuracy)\n",
    "print(\"Precision:\", precision)\n",
    "print(\"Recall:\", recall)\n",
    "print(\"F1-score:\", f1_score)"
   ]
  },
  {
   "cell_type": "markdown",
   "id": "9ba31231",
   "metadata": {},
   "source": [
    "These metrics provide insights into the model's performance:\n",
    "\n",
    "The Area Under ROC Curve (AUC) value of 0.838 indicates that the model has good discriminative ability in distinguishing between positive and negative outcomes.\n",
    "The accuracy of 0.795 suggests that the model predicted the correct outcome for approximately 79.58% of the instances.\n",
    "The precision of 0.741 indicates that when the model predicted a positive outcome, it was correct approximately 74.14% of the time.\n",
    "The recall of 0.641 implies that the model identified approximately 64.18% of the actual positive outcomes correctly.\n",
    "The F1-score of 0.688 represents the harmonic mean of precision and recall, providing a balanced measure of the model's performance.\n",
    "Overall, the Logistic Regression model shows decent performance in predicting the outcome based on the given features. However, there is room for improvement, particularly in terms of recall, which indicates that the model could better identify true positive cases."
   ]
  },
  {
   "cell_type": "code",
   "execution_count": 51,
   "id": "91249171",
   "metadata": {},
   "outputs": [],
   "source": [
    "from pyspark.ml import Pipeline\n",
    "from pyspark.ml.feature import VectorAssembler\n",
    "from pyspark.ml.classification import LogisticRegression\n",
    "from pyspark.ml.tuning import ParamGridBuilder, CrossValidator\n",
    "from pyspark.ml.evaluation import MulticlassClassificationEvaluator\n",
    "from pyspark.sql.functions import col"
   ]
  },
  {
   "cell_type": "code",
   "execution_count": 52,
   "id": "df2a8264",
   "metadata": {},
   "outputs": [],
   "source": [
    "assembler = VectorAssembler(inputCols=['Pregnancies', 'Glucose', 'BloodPressure', 'SkinThickness', 'Insulin', 'BMI', 'DiabetesPedigreeFunction', 'Age'], outputCol='features')"
   ]
  },
  {
   "cell_type": "code",
   "execution_count": 53,
   "id": "48872e9b",
   "metadata": {},
   "outputs": [],
   "source": [
    "lr = LogisticRegression(featuresCol='features', labelCol='Outcome')"
   ]
  },
  {
   "cell_type": "code",
   "execution_count": 54,
   "id": "399c81ce",
   "metadata": {},
   "outputs": [],
   "source": [
    "pipeline = Pipeline(stages=[assembler, lr])"
   ]
  },
  {
   "cell_type": "code",
   "execution_count": 55,
   "id": "584b588c",
   "metadata": {},
   "outputs": [],
   "source": [
    "train_data, test_data = df_filtered.randomSplit([0.7, 0.3], seed=42)\n",
    "\n",
    "train_data = train_data.withColumn(\"label\", col(\"Outcome\"))"
   ]
  },
  {
   "cell_type": "code",
   "execution_count": 56,
   "id": "e39b198d",
   "metadata": {},
   "outputs": [],
   "source": [
    "#Define the parameter grid for hyperparameter tuning\n",
    "paramGrid = ParamGridBuilder() \\\n",
    "    .addGrid(lr.regParam, [0.01, 0.1, 0.5]) \\\n",
    "    .addGrid(lr.elasticNetParam, [0.0, 0.5, 1.0]) \\\n",
    "    .build()\n"
   ]
  },
  {
   "cell_type": "code",
   "execution_count": 57,
   "id": "ed0d0162",
   "metadata": {},
   "outputs": [],
   "source": [
    "#Create a cross-validator for model selection using the parameter grid\n",
    "crossval = CrossValidator(estimator=pipeline,\n",
    "                          estimatorParamMaps=paramGrid,\n",
    "                          evaluator=BinaryClassificationEvaluator(),\n",
    "                          numFolds=5)"
   ]
  },
  {
   "cell_type": "code",
   "execution_count": 58,
   "id": "ee06a8b0",
   "metadata": {},
   "outputs": [],
   "source": [
    "#Fit the cross-validator to the training data\n",
    "cvModel = crossval.fit(train_data)"
   ]
  },
  {
   "cell_type": "code",
   "execution_count": 59,
   "id": "a59d4159",
   "metadata": {},
   "outputs": [],
   "source": [
    "predictions = cvModel.transform(test_data)"
   ]
  },
  {
   "cell_type": "code",
   "execution_count": 60,
   "id": "ca6f7775",
   "metadata": {
    "scrolled": true
   },
   "outputs": [
    {
     "name": "stdout",
     "output_type": "stream",
     "text": [
      "Accuracy: 0.80\n",
      "Precision: 0.81\n",
      "Recall: 0.90\n",
      "F1-Score: 0.79\n"
     ]
    }
   ],
   "source": [
    "evaluator = MulticlassClassificationEvaluator(labelCol='Outcome', metricName='precisionByLabel')\n",
    "accuracy = evaluator.evaluate(predictions, {evaluator.metricName: 'accuracy'})\n",
    "precision = evaluator.evaluate(predictions)\n",
    "recall = evaluator.evaluate(predictions, {evaluator.metricName: 'recallByLabel'})\n",
    "f1_score = evaluator.evaluate(predictions, {evaluator.metricName: 'f1'})\n",
    "\n",
    "print(\"Accuracy: {:.2f}\".format(accuracy))\n",
    "print(\"Precision: {:.2f}\".format(precision))\n",
    "print(\"Recall: {:.2f}\".format(recall))\n",
    "print(\"F1-Score: {:.2f}\".format(f1_score))\n"
   ]
  },
  {
   "cell_type": "markdown",
   "id": "d46405f9",
   "metadata": {},
   "source": [
    "# Linear Regression"
   ]
  },
  {
   "cell_type": "code",
   "execution_count": 61,
   "id": "637b328f",
   "metadata": {
    "scrolled": true
   },
   "outputs": [
    {
     "name": "stderr",
     "output_type": "stream",
     "text": [
      "23/06/02 19:09:34 WARN Instrumentation: [04ac080b] regParam is zero, which might cause numerical instability and overfitting.\n",
      "23/06/02 19:09:35 WARN InstanceBuilder: Failed to load implementation from:dev.ludovic.netlib.lapack.JNILAPACK\n"
     ]
    },
    {
     "name": "stdout",
     "output_type": "stream",
     "text": [
      "Root Mean Squared Error (RMSE): 7.0005993055731395\n",
      "R-squared error (R2): 0.36542476960066905\n",
      "Mean absolute error (MAE): 5.439772761981521\n"
     ]
    }
   ],
   "source": [
    "from pyspark.ml.regression import LinearRegression\n",
    "from pyspark.ml.feature import VectorAssembler\n",
    "from pyspark.ml.evaluation import RegressionEvaluator\n",
    "\n",
    "# Select the 'BMI' and 'SkinThickness' features\n",
    "df_regression = df_filtered.select('BMI', 'SkinThickness')\n",
    "\n",
    "# Prepare the data for modeling\n",
    "assembler = VectorAssembler(inputCols=['BMI'], outputCol='features')\n",
    "data = assembler.transform(df_regression).select('features', 'SkinThickness')\n",
    "\n",
    "# Split the data into training and test sets\n",
    "train_data, test_data = data.randomSplit([0.7, 0.3], seed=42)\n",
    "\n",
    "# Create a Linear Regression model\n",
    "lr = LinearRegression(labelCol='SkinThickness')\n",
    "\n",
    "# Fit the model to the training data\n",
    "model = lr.fit(train_data)\n",
    "\n",
    "# Make predictions on the test data\n",
    "predictions = model.transform(test_data)\n",
    "\n",
    "evaluator = RegressionEvaluator(labelCol='SkinThickness', predictionCol='prediction')\n",
    "\n",
    "# Calculate root mean squared error (RMSE)\n",
    "rmse = evaluator.evaluate(predictions, {evaluator.metricName: 'rmse'})\n",
    "\n",
    "# Calculate R-squared\n",
    "r_squared = evaluator.evaluate(predictions, {evaluator.metricName: 'r2'})\n",
    "\n",
    "# Calculate mean absolute error (MAE)\n",
    "mae = evaluator.evaluate(predictions, {evaluator.metricName: 'mae'})\n",
    "\n",
    "# Print\n",
    "print(\"Root Mean Squared Error (RMSE):\", rmse)\n",
    "print(\"R-squared error (R2):\", r_squared)\n",
    "print(\"Mean absolute error (MAE):\", mae)"
   ]
  },
  {
   "cell_type": "code",
   "execution_count": 62,
   "id": "461d99df",
   "metadata": {},
   "outputs": [
    {
     "name": "stderr",
     "output_type": "stream",
     "text": [
      "23/06/02 19:09:35 WARN Instrumentation: [453061c7] regParam is zero, which might cause numerical instability and overfitting.\n"
     ]
    },
    {
     "name": "stdout",
     "output_type": "stream",
     "text": [
      "Root Mean Squared Error (RMSE): 7.0005993055731395\n",
      "R-squared error (R2): 0.36542476960066905\n",
      "Mean absolute error (MAE): 5.439772761981521\n"
     ]
    },
    {
     "data": {
      "image/png": "[encoded data removed]",
      "text/plain": [
       "<Figure size 640x480 with 1 Axes>"
      ]
     },
     "metadata": {},
     "output_type": "display_data"
    }
   ],
   "source": [
    "from pyspark.ml.regression import LinearRegression\n",
    "from pyspark.ml.feature import VectorAssembler\n",
    "from pyspark.ml.evaluation import RegressionEvaluator\n",
    "import matplotlib.pyplot as plt\n",
    "import numpy as np\n",
    "\n",
    "# Select the 'BMI' and 'SkinThickness' features\n",
    "df_regression = df_filtered.select('BMI', 'SkinThickness')\n",
    "\n",
    "# Prepare the data for modeling\n",
    "assembler = VectorAssembler(inputCols=['BMI'], outputCol='features')\n",
    "data = assembler.transform(df_regression).select('features', 'SkinThickness')\n",
    "\n",
    "# Split the data into training and test sets\n",
    "train_data, test_data = data.randomSplit([0.7, 0.3], seed=42)\n",
    "\n",
    "# Create a Linear Regression model\n",
    "lr = LinearRegression(labelCol='SkinThickness')\n",
    "\n",
    "# Fit the model to the training data\n",
    "model = lr.fit(train_data)\n",
    "\n",
    "# Make predictions on the test data\n",
    "predictions = model.transform(test_data)\n",
    "\n",
    "evaluator = RegressionEvaluator(labelCol='SkinThickness', predictionCol='prediction')\n",
    "\n",
    "# Calculate root mean squared error (RMSE)\n",
    "rmse = evaluator.evaluate(predictions, {evaluator.metricName: 'rmse'})\n",
    "\n",
    "# Calculate R-squared\n",
    "r_squared = evaluator.evaluate(predictions, {evaluator.metricName: 'r2'})\n",
    "\n",
    "# Calculate mean absolute error (MAE)\n",
    "mae = evaluator.evaluate(predictions, {evaluator.metricName: 'mae'})\n",
    "\n",
    "# Print evaluation metrics\n",
    "print(\"Root Mean Squared Error (RMSE):\", rmse)\n",
    "print(\"R-squared error (R2):\", r_squared)\n",
    "print(\"Mean absolute error (MAE):\", mae)\n",
    "\n",
    "# Convert Spark DataFrame to Pandas DataFrame for visualization\n",
    "predictions_pd = predictions.select('features', 'SkinThickness', 'prediction').toPandas()\n",
    "\n",
    "# Extract values from the 'features' column\n",
    "predictions_pd['BMI'] = predictions_pd['features'].apply(lambda x: x[0])\n",
    "\n",
    "# Plot the actual values and predictions\n",
    "plt.scatter(predictions_pd['BMI'], predictions_pd['SkinThickness'], color='blue', label='Actual')\n",
    "plt.plot(predictions_pd['BMI'], predictions_pd['prediction'], color='red', label='Prediction')\n",
    "plt.xlabel('BMI')\n",
    "plt.ylabel('SkinThickness')\n",
    "plt.title('Linear Regression: Actual vs. Prediction')\n",
    "plt.legend()\n",
    "plt.show()"
   ]
  },
  {
   "cell_type": "code",
   "execution_count": 63,
   "id": "a10db201",
   "metadata": {},
   "outputs": [
    {
     "name": "stderr",
     "output_type": "stream",
     "text": [
      "23/06/02 19:09:37 WARN Instrumentation: [9e92fb87] regParam is zero, which might cause numerical instability and overfitting.\n",
      "23/06/02 19:09:37 WARN Instrumentation: [34e8048c] regParam is zero, which might cause numerical instability and overfitting.\n",
      "23/06/02 19:09:37 WARN Instrumentation: [c9dd41d5] regParam is zero, which might cause numerical instability and overfitting.\n",
      "23/06/02 19:09:39 WARN Instrumentation: [337434c1] regParam is zero, which might cause numerical instability and overfitting.\n",
      "23/06/02 19:09:39 WARN Instrumentation: [bcc96044] regParam is zero, which might cause numerical instability and overfitting.\n",
      "23/06/02 19:09:39 WARN Instrumentation: [0842a15a] regParam is zero, which might cause numerical instability and overfitting.\n",
      "23/06/02 19:09:41 WARN Instrumentation: [a0758b83] regParam is zero, which might cause numerical instability and overfitting.\n",
      "23/06/02 19:09:41 WARN Instrumentation: [d27318f3] regParam is zero, which might cause numerical instability and overfitting.\n",
      "23/06/02 19:09:42 WARN Instrumentation: [5c75dd97] regParam is zero, which might cause numerical instability and overfitting.\n"
     ]
    },
    {
     "name": "stdout",
     "output_type": "stream",
     "text": [
      "Root Mean Squared Error (RMSE): 7.116960776983326\n",
      "R-squared error (R2): 0.4045674910292999\n",
      "Mean absolute error (MAE): 5.588494102274387\n"
     ]
    },
    {
     "data": {
      "image/png": "[encoded data removed]",
      "text/plain": [
       "<Figure size 640x480 with 1 Axes>"
      ]
     },
     "metadata": {},
     "output_type": "display_data"
    }
   ],
   "source": [
    "from pyspark.ml import Pipeline\n",
    "from pyspark.ml.feature import VectorAssembler\n",
    "from pyspark.ml.regression import LinearRegression\n",
    "from pyspark.ml.evaluation import RegressionEvaluator\n",
    "from pyspark.ml.tuning import ParamGridBuilder, CrossValidator\n",
    "\n",
    "# Select the features for regression\n",
    "df_regression = df_filtered.select('BMI', 'SkinThickness')\n",
    "\n",
    "# Prepare the data for modeling\n",
    "assembler = VectorAssembler(inputCols=['BMI'], outputCol='features')\n",
    "\n",
    "# Split the data into training and test sets\n",
    "train_data, test_data = df_regression.randomSplit([0.7, 0.3], seed=14)\n",
    "\n",
    "# Create a Linear Regression model\n",
    "lr = LinearRegression(featuresCol='features', labelCol='SkinThickness', regParam=0.1)\n",
    "\n",
    "\n",
    "# Define the parameter grid for hyperparameter tuning\n",
    "param_grid = ParamGridBuilder() \\\n",
    "    .addGrid(lr.regParam, [0.0, 0.1, 0.2]) \\\n",
    "    .addGrid(lr.elasticNetParam, [0.0, 0.5, 1.0]) \\\n",
    "    .build()\n",
    "\n",
    "# Define the evaluator for model selection\n",
    "evaluator = RegressionEvaluator(labelCol='SkinThickness', predictionCol='prediction', metricName='rmse')\n",
    "\n",
    "# Create a cross-validator\n",
    "cross_validator = CrossValidator(estimator=lr,\n",
    "                                estimatorParamMaps=param_grid,\n",
    "                                evaluator=evaluator,\n",
    "                                numFolds=3)\n",
    "\n",
    "# Create a pipeline\n",
    "pipeline = Pipeline(stages=[assembler, cross_validator])\n",
    "\n",
    "# Train the model and select the best one based on cross-validation\n",
    "model = pipeline.fit(train_data)\n",
    "\n",
    "# Make predictions on the test data\n",
    "predictions = model.transform(test_data)\n",
    "\n",
    "# Evaluate the model performance\n",
    "rmse = evaluator.evaluate(predictions)\n",
    "r_squared = evaluator.evaluate(predictions, {evaluator.metricName: 'r2'})\n",
    "mae = evaluator.evaluate(predictions, {evaluator.metricName: 'mae'})\n",
    "\n",
    "# Print evaluation metrics\n",
    "print(\"Root Mean Squared Error (RMSE):\", rmse)\n",
    "print(\"R-squared error (R2):\", r_squared)\n",
    "print(\"Mean absolute error (MAE):\", mae)\n",
    "\n",
    "# Plot the actual values and predictions\n",
    "plt.scatter(predictions_pd['BMI'], predictions_pd['SkinThickness'], color='blue', label='Actual')\n",
    "plt.plot(predictions_pd['BMI'], predictions_pd['prediction'], color='red', label='Prediction')\n",
    "plt.xlabel('BMI')\n",
    "plt.ylabel('SkinThickness')\n",
    "plt.title('Linear Regression: Actual vs. Prediction')\n",
    "plt.legend()\n",
    "plt.show()"
   ]
  },
  {
   "cell_type": "markdown",
   "id": "714ebfa3",
   "metadata": {},
   "source": [
    "The RMSE represents the average magnitude of the residuals (the differences between the predicted and actual values) and provides a measure of the overall model performance. In this case, the RMSE value of 7.116960776983326 indicates that, on average, the predicted 'SkinThickness' values deviate from the actual values by approximately 7.1.\n",
    "\n",
    "The R-squared error (R2) is a measure of how well the linear regression model fits the data. The R2 value of 0.4045674910292999 indicates that the 'BMI' feature explains about 40.45% of the variance in the 'SkinThickness' feature. This means that the linear regression model has a moderate fit to the data.\n",
    "\n",
    "The Mean Absolute Error (MAE) represents the average absolute difference between the predicted and actual values of the 'SkinThickness' feature. The MAE value of 5.588494102274387 indicates that, on average, the predictions deviate from the actual values by approximately 5.5.\n",
    "\n",
    "Overall, the linear regression model has a moderate fit to the data for predicting the 'SkinThickness' feature based on the 'BMI' feature. However, there is still room for improvement, as indicated by the relatively high RMSE and MAE values. Further analysis and exploration of additional features or model enhancements may be necessary to improve the accuracy of the predictions."
   ]
  },
  {
   "cell_type": "code",
   "execution_count": 64,
   "id": "9d501565",
   "metadata": {},
   "outputs": [],
   "source": [
    "Closing the SparkSession\n",
    "spark.stop()"
   ]
  },
  {
   "cell_type": "code",
   "execution_count": null,
   "id": "d5e93f4b",
   "metadata": {},
   "outputs": [],
   "source": []
  }
 ],
 "metadata": {
  "kernelspec": {
   "display_name": "Python 3 (ipykernel)",
   "language": "python",
   "name": "python3"
  },
  "language_info": {
   "codemirror_mode": {
    "name": "ipython",
    "version": 3
   },
   "file_extension": ".py",
   "mimetype": "text/x-python",
   "name": "python",
   "nbconvert_exporter": "python",
   "pygments_lexer": "ipython3",
   "version": "3.9.13"
  }
 },
 "nbformat": 4,
 "nbformat_minor": 5
}
